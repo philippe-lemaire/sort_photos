{
 "cells": [
  {
   "cell_type": "code",
   "execution_count": 16,
   "id": "f23e0f9d-8c0e-465c-a4a1-39efa1d1ac62",
   "metadata": {
    "tags": []
   },
   "outputs": [],
   "source": [
    "from PIL import Image\n",
    "import os\n",
    "import shutil"
   ]
  },
  {
   "cell_type": "code",
   "execution_count": 17,
   "id": "c4fc621a-8730-4d8e-8095-5024f98e18c5",
   "metadata": {
    "tags": []
   },
   "outputs": [],
   "source": [
    "# set the source path of the pictures\n",
    "folder = \"photos\""
   ]
  },
  {
   "cell_type": "code",
   "execution_count": 20,
   "id": "df6dcc27-6180-4b63-abb2-7d5c314d1f66",
   "metadata": {
    "tags": []
   },
   "outputs": [],
   "source": [
    "def get_date_taken(path):\n",
    "    return Image.open(path)._getexif()[36867]"
   ]
  },
  {
   "cell_type": "code",
   "execution_count": 22,
   "id": "66f05502-2f68-4af3-83a9-56fe01df247c",
   "metadata": {
    "tags": []
   },
   "outputs": [],
   "source": [
    "for img in os.listdir(folder):\n",
    "    current_path = f\"{folder}/{img}\"\n",
    "    date = get_date_taken(current_path)\n",
    "    year = date[:4]\n",
    "    month = date[5:7]\n",
    "    os.makedirs(f\"{folder}/{year}/{month}\", exist_ok=True)\n",
    "    new_path = f\"{folder}/{year}/{month}/{img}\"\n",
    "    os.replace(current_path, new_path)"
   ]
  },
  {
   "cell_type": "code",
   "execution_count": null,
   "id": "6b0bbfb5-2cc2-4170-be82-8864df9ef478",
   "metadata": {},
   "outputs": [],
   "source": []
  }
 ],
 "metadata": {
  "kernelspec": {
   "display_name": "Python 3 (ipykernel)",
   "language": "python",
   "name": "python3"
  },
  "language_info": {
   "codemirror_mode": {
    "name": "ipython",
    "version": 3
   },
   "file_extension": ".py",
   "mimetype": "text/x-python",
   "name": "python",
   "nbconvert_exporter": "python",
   "pygments_lexer": "ipython3",
   "version": "3.11.4"
  }
 },
 "nbformat": 4,
 "nbformat_minor": 5
}
